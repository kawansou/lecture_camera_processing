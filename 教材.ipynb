{
 "cells": [
  {
   "cell_type": "markdown",
   "metadata": {},
   "source": [
    "# 基本的な画像処理と物体検出\n",
    "\n",
    "この教材では、PythonとOpenCVを使用してカメラからの画像取得、基本的な画像処理を学び、最終的にYOLOv8による物体検出を実行します。"
   ]
  },
  {
   "cell_type": "code",
   "execution_count": 2,
   "id": "ce669c93",
   "metadata": {},
   "outputs": [
    {
     "name": "stdout",
     "output_type": "stream",
     "text": [
      "その番号のカメラは存在しないみたい\n"
     ]
    }
   ],
   "source": [
    "# どれがwebカメラか調べておこう\n",
    "import cv2\n",
    "\n",
    "camera_num = 1\n",
    "\n",
    "cap = cv2.VideoCapture(camera_num)\n",
    "# 解像度の設定\n",
    "width, height = 640, 480\n",
    "# 幅をwidthに設定\n",
    "cap.set(cv2.CAP_PROP_FRAME_WIDTH, width)\n",
    "# 高さをheightに設定\n",
    "cap.set(cv2.CAP_PROP_FRAME_HEIGHT, height)\n",
    "\n",
    "while True:\n",
    "    ret, frame = cap.read()\n",
    "    if not ret:\n",
    "        print('その番号のカメラは存在しないみたい')\n",
    "        break\n",
    "    cv2.imshow('camera', frame)\n",
    "    if cv2.waitKey(1) & 0xFF == 27:\n",
    "        break\n",
    "\n",
    "cap.release()\n",
    "cv2.destroyAllWindows()"
   ]
  },
  {
   "cell_type": "code",
   "execution_count": null,
   "metadata": {},
   "outputs": [
    {
     "name": "stdout",
     "output_type": "stream",
     "text": [
      "カメラ操作: \n",
      "  'Esc': 終了\n",
      "  'S'  : 画像保存\n",
      "  'F'  : フォーカス切り替え\n",
      "  'E'  : 露光値変更\n"
     ]
    }
   ],
   "source": [
    "import cv2\n",
    "\n",
    "# カメラ初期化\n",
    "cap = cv2.VideoCapture(0)\n",
    "\n",
    "# 解像度の設定\n",
    "width, height = 640, 480\n",
    "# 幅をwidthに設定\n",
    "cap.set(cv2.CAP_PROP_FRAME_WIDTH, width)\n",
    "# 高さをheightに設定\n",
    "cap.set(cv2.CAP_PROP_FRAME_HEIGHT, height)\n",
    "\n",
    "# もしカメラが見つからなかったら終了\n",
    "if not cap.isOpened():\n",
    "    print(\"カメラが見つかりませんでした\")\n",
    "    exit()\n",
    "\n",
    "exposure = cap.get(cv2.CAP_PROP_EXPOSURE)  # 露光値を取得\n",
    "focus_mode = 0  # フォーカスモード (0: 自動, 1: 手動)\n",
    "\n",
    "print(\"カメラ操作: \")\n",
    "print(\"  'Esc': 終了\")\n",
    "print(\"  'S'  : 画像保存\")\n",
    "print(\"  'F'  : フォーカス切り替え\")\n",
    "print(\"  'E'  : 露光値変更\")\n",
    "\n",
    "# ループ\n",
    "while True:\n",
    "    # 画像取得\n",
    "    # -- 第一戻り値 ret ... フレームの取得に成功したかどうか\n",
    "    # -- 第二戻り値 frame ... 取得したフレーム\n",
    "    ret, frame = cap.read()\n",
    "\n",
    "    # 失敗してたら終了\n",
    "    if not ret:\n",
    "        print(\"フレームの取得に失敗しました\")\n",
    "        break\n",
    "    \n",
    "    # 画像表示\n",
    "    cv2.imshow('Camera', frame)\n",
    "    # キー入力待ち\n",
    "    key = cv2.waitKey(1) & 0xFF\n",
    "    \n",
    "    if key == 27:  # Escキーで終了\n",
    "        break\n",
    "    elif key == ord('s'):  # Sキーで画像保存\n",
    "        filename = 'captured_image.jpg'\n",
    "        cv2.imwrite(filename, frame)\n",
    "        print(f\"画像を保存しました: {filename}\")\n",
    "    elif key == ord('f'):  # Fキーでフォーカス切り替え\n",
    "        focus_mode = 1 - focus_mode\n",
    "        cap.set(cv2.CAP_PROP_AUTOFOCUS, focus_mode)\n",
    "        mode = \"手動\" if focus_mode == 0 else \"自動\"\n",
    "        print(f\"フォーカスモードを変更: {mode}\")\n",
    "    elif key == ord('e'):  # Eキーで露光値を変更\n",
    "        exposure += 1\n",
    "        cap.set(cv2.CAP_PROP_EXPOSURE, exposure)\n",
    "        print(f\"露光値を変更: {exposure}\")\n",
    "\n",
    "cap.release()\n",
    "cv2.destroyAllWindows()"
   ]
  },
  {
   "cell_type": "markdown",
   "metadata": {},
   "source": [
    "## 基本的な画像処理\n",
    "以下では、グレースケール変換やエッジ検出などの基本的な処理を行います。"
   ]
  },
  {
   "cell_type": "code",
   "execution_count": null,
   "metadata": {},
   "outputs": [],
   "source": [
    "import cv2\n",
    "\n",
    "cap = cv2.VideoCapture(0)\n",
    "if not cap.isOpened():\n",
    "    print(\"カメラが見つかりませんでした\")\n",
    "    exit()\n",
    "\n",
    "print(\"Escキーで終了\")\n",
    "\n",
    "while True:\n",
    "    ret, frame = cap.read()\n",
    "    if not ret:\n",
    "        print(\"フレームの取得に失敗しました\")\n",
    "        break\n",
    "    \n",
    "    # グレースケール変換\n",
    "    gray = cv2.cvtColor(frame, cv2.COLOR_BGR2GRAY)\n",
    "    \n",
    "    # エッジ検出\n",
    "    edges = cv2.Canny(gray, 100, 200)\n",
    "    \n",
    "    # 結果を表示\n",
    "    cv2.imshow('Gray', gray)\n",
    "    cv2.imshow('Edges', edges)\n",
    "    \n",
    "    if cv2.waitKey(1) & 0xFF == 27:\n",
    "        break\n",
    "\n",
    "cap.release()\n",
    "cv2.destroyAllWindows()"
   ]
  },
  {
   "cell_type": "markdown",
   "metadata": {},
   "source": [
    "## YOLOv8を使用した物体検出\n",
    "YOLOv8を使用してリアルタイムで物体検出を行います。事前に`ultralytics`ライブラリをインストールしてください。\n",
    "\n",
    "```\n",
    "pip install ultralytics\n",
    "```"
   ]
  },
  {
   "cell_type": "code",
   "execution_count": null,
   "metadata": {},
   "outputs": [
    {
     "name": "stdout",
     "output_type": "stream",
     "text": [
      "Downloading https://github.com/ultralytics/assets/releases/download/v8.2.0/yolov8n.pt to 'yolov8n.pt'...\n"
     ]
    },
    {
     "data": {
      "application/vnd.jupyter.widget-view+json": {
       "model_id": "ed8dc7d89b304567a31788c380bf2c7e",
       "version_major": 2,
       "version_minor": 0
      },
      "text/plain": [
       "  0%|          | 0.00/6.25M [00:00<?, ?B/s]"
      ]
     },
     "metadata": {},
     "output_type": "display_data"
    }
   ],
   "source": [
    "from ultralytics import YOLO\n",
    "import cv2\n",
    "\n",
    "# YOLOv8モデルのロード\n",
    "model = YOLO('yolov8n.pt')  # 勝手にダウンロードされる\n",
    "\n",
    "# カメラからの画像取得\n",
    "cap = cv2.VideoCapture(0)\n",
    "if not cap.isOpened():\n",
    "    print(\"カメラが見つかりませんでした\")\n",
    "    exit()\n",
    "\n",
    "print(\"Escキーで終了\")\n",
    "\n",
    "while True:\n",
    "    ret, frame = cap.read()\n",
    "    if not ret:\n",
    "        print(\"フレームの取得に失敗しました\")\n",
    "        break\n",
    "    \n",
    "    # YOLOv8で物体検出\n",
    "    results = model(frame)\n",
    "    annotated_frame = results[0].plot()  # 結果を描画\n",
    "    \n",
    "    # フレームを表示\n",
    "    cv2.imshow('YOLOv8 Detection', annotated_frame)\n",
    "    \n",
    "    if cv2.waitKey(1) & 0xFF == 27:\n",
    "        break\n",
    "\n",
    "cap.release()\n",
    "cv2.destroyAllWindows()"
   ]
  }
 ],
 "metadata": {
  "kernelspec": {
   "display_name": "Python 3",
   "language": "python",
   "name": "python3"
  },
  "language_info": {
   "codemirror_mode": {
    "name": "ipython",
    "version": 3
   },
   "file_extension": ".py",
   "mimetype": "text/x-python",
   "name": "python",
   "nbconvert_exporter": "python",
   "pygments_lexer": "ipython3",
   "version": "3.9.13"
  }
 },
 "nbformat": 4,
 "nbformat_minor": 5
}
