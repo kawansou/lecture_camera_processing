{
 "cells": [
  {
   "cell_type": "markdown",
   "metadata": {},
   "source": [
    "# 課題: カメラ画像の操作と基本画像処理\n",
    "\n",
    "以下の課題に取り組んでください:\n",
    "\n",
    "カメラから取得した画像から\n",
    "1. キー入力でカメラのズームイン、ズームアウトを行う。\n",
    "2. フレームの大津の二値化を行い、その結果を表示する。\n",
    "3. フレームから青色だけを抽出して表示する。\n"
   ]
  },
  {
   "cell_type": "code",
   "execution_count": null,
   "metadata": {},
   "outputs": [],
   "source": []
  }
 ],
 "metadata": {
  "kernelspec": {
   "display_name": "Python 3",
   "language": "python",
   "name": "python3"
  },
  "language_info": {
   "codemirror_mode": {
    "name": "ipython",
    "version": 3
   },
   "file_extension": ".py",
   "mimetype": "text/x-python",
   "name": "python",
   "nbconvert_exporter": "python",
   "pygments_lexer": "ipython3",
   "version": "3.9.7"
  }
 },
 "nbformat": 4,
 "nbformat_minor": 5
}
